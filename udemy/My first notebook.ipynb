{
 "cells": [
  {
   "cell_type": "code",
   "execution_count": 1,
   "metadata": {
    "collapsed": false
   },
   "outputs": [
    {
     "name": "stdout",
     "output_type": "stream",
     "text": [
      "hello world\n"
     ]
    }
   ],
   "source": [
    "print 'hello world'"
   ]
  },
  {
   "cell_type": "code",
   "execution_count": 2,
   "metadata": {
    "collapsed": false
   },
   "outputs": [
    {
     "name": "stdout",
     "output_type": "stream",
     "text": [
      "Shift+Enter will run a cell\n"
     ]
    }
   ],
   "source": [
    "print 'Shift+Enter will run a cell'"
   ]
  },
  {
   "cell_type": "raw",
   "metadata": {},
   "source": [
    "print 'tab'"
   ]
  },
  {
   "cell_type": "code",
   "execution_count": 3,
   "metadata": {
    "collapsed": false
   },
   "outputs": [
    {
     "name": "stdout",
     "output_type": "stream",
     "text": [
      "tab will sho a pop up on methods of an object\n"
     ]
    }
   ],
   "source": [
    "print 'tab will sho a pop up on methods of an object'"
   ]
  },
  {
   "cell_type": "code",
   "execution_count": 4,
   "metadata": {
    "collapsed": false
   },
   "outputs": [
    {
     "name": "stdout",
     "output_type": "stream",
     "text": [
      "shift+tab will show help pop up\n"
     ]
    }
   ],
   "source": [
    "print 'shift+tab will show help pop up'"
   ]
  },
  {
   "cell_type": "code",
   "execution_count": 5,
   "metadata": {
    "collapsed": false
   },
   "outputs": [
    {
     "name": "stdout",
     "output_type": "stream",
     "text": [
      "shift+tab\n"
     ]
    }
   ],
   "source": [
    "print 'shift+tab'\n"
   ]
  },
  {
   "cell_type": "code",
   "execution_count": 6,
   "metadata": {
    "collapsed": false
   },
   "outputs": [
    {
     "name": "stdout",
     "output_type": "stream",
     "text": [
      "Help on int object:\n",
      "\n",
      "class int(object)\n",
      " |  int(x=0) -> int or long\n",
      " |  int(x, base=10) -> int or long\n",
      " |  \n",
      " |  Convert a number or string to an integer, or return 0 if no arguments\n",
      " |  are given.  If x is floating point, the conversion truncates towards zero.\n",
      " |  If x is outside the integer range, the function returns a long instead.\n",
      " |  \n",
      " |  If x is not a number or if base is given, then x must be a string or\n",
      " |  Unicode object representing an integer literal in the given base.  The\n",
      " |  literal can be preceded by '+' or '-' and be surrounded by whitespace.\n",
      " |  The base defaults to 10.  Valid bases are 0 and 2-36.  Base 0 means to\n",
      " |  interpret the base from the string as an integer literal.\n",
      " |  >>> int('0b100', base=0)\n",
      " |  4\n",
      " |  \n",
      " |  Methods defined here:\n",
      " |  \n",
      " |  __abs__(...)\n",
      " |      x.__abs__() <==> abs(x)\n",
      " |  \n",
      " |  __add__(...)\n",
      " |      x.__add__(y) <==> x+y\n",
      " |  \n",
      " |  __and__(...)\n",
      " |      x.__and__(y) <==> x&y\n",
      " |  \n",
      " |  __cmp__(...)\n",
      " |      x.__cmp__(y) <==> cmp(x,y)\n",
      " |  \n",
      " |  __coerce__(...)\n",
      " |      x.__coerce__(y) <==> coerce(x, y)\n",
      " |  \n",
      " |  __div__(...)\n",
      " |      x.__div__(y) <==> x/y\n",
      " |  \n",
      " |  __divmod__(...)\n",
      " |      x.__divmod__(y) <==> divmod(x, y)\n",
      " |  \n",
      " |  __float__(...)\n",
      " |      x.__float__() <==> float(x)\n",
      " |  \n",
      " |  __floordiv__(...)\n",
      " |      x.__floordiv__(y) <==> x//y\n",
      " |  \n",
      " |  __format__(...)\n",
      " |  \n",
      " |  __getattribute__(...)\n",
      " |      x.__getattribute__('name') <==> x.name\n",
      " |  \n",
      " |  __getnewargs__(...)\n",
      " |  \n",
      " |  __hash__(...)\n",
      " |      x.__hash__() <==> hash(x)\n",
      " |  \n",
      " |  __hex__(...)\n",
      " |      x.__hex__() <==> hex(x)\n",
      " |  \n",
      " |  __index__(...)\n",
      " |      x[y:z] <==> x[y.__index__():z.__index__()]\n",
      " |  \n",
      " |  __int__(...)\n",
      " |      x.__int__() <==> int(x)\n",
      " |  \n",
      " |  __invert__(...)\n",
      " |      x.__invert__() <==> ~x\n",
      " |  \n",
      " |  __long__(...)\n",
      " |      x.__long__() <==> long(x)\n",
      " |  \n",
      " |  __lshift__(...)\n",
      " |      x.__lshift__(y) <==> x<<y\n",
      " |  \n",
      " |  __mod__(...)\n",
      " |      x.__mod__(y) <==> x%y\n",
      " |  \n",
      " |  __mul__(...)\n",
      " |      x.__mul__(y) <==> x*y\n",
      " |  \n",
      " |  __neg__(...)\n",
      " |      x.__neg__() <==> -x\n",
      " |  \n",
      " |  __nonzero__(...)\n",
      " |      x.__nonzero__() <==> x != 0\n",
      " |  \n",
      " |  __oct__(...)\n",
      " |      x.__oct__() <==> oct(x)\n",
      " |  \n",
      " |  __or__(...)\n",
      " |      x.__or__(y) <==> x|y\n",
      " |  \n",
      " |  __pos__(...)\n",
      " |      x.__pos__() <==> +x\n",
      " |  \n",
      " |  __pow__(...)\n",
      " |      x.__pow__(y[, z]) <==> pow(x, y[, z])\n",
      " |  \n",
      " |  __radd__(...)\n",
      " |      x.__radd__(y) <==> y+x\n",
      " |  \n",
      " |  __rand__(...)\n",
      " |      x.__rand__(y) <==> y&x\n",
      " |  \n",
      " |  __rdiv__(...)\n",
      " |      x.__rdiv__(y) <==> y/x\n",
      " |  \n",
      " |  __rdivmod__(...)\n",
      " |      x.__rdivmod__(y) <==> divmod(y, x)\n",
      " |  \n",
      " |  __repr__(...)\n",
      " |      x.__repr__() <==> repr(x)\n",
      " |  \n",
      " |  __rfloordiv__(...)\n",
      " |      x.__rfloordiv__(y) <==> y//x\n",
      " |  \n",
      " |  __rlshift__(...)\n",
      " |      x.__rlshift__(y) <==> y<<x\n",
      " |  \n",
      " |  __rmod__(...)\n",
      " |      x.__rmod__(y) <==> y%x\n",
      " |  \n",
      " |  __rmul__(...)\n",
      " |      x.__rmul__(y) <==> y*x\n",
      " |  \n",
      " |  __ror__(...)\n",
      " |      x.__ror__(y) <==> y|x\n",
      " |  \n",
      " |  __rpow__(...)\n",
      " |      y.__rpow__(x[, z]) <==> pow(x, y[, z])\n",
      " |  \n",
      " |  __rrshift__(...)\n",
      " |      x.__rrshift__(y) <==> y>>x\n",
      " |  \n",
      " |  __rshift__(...)\n",
      " |      x.__rshift__(y) <==> x>>y\n",
      " |  \n",
      " |  __rsub__(...)\n",
      " |      x.__rsub__(y) <==> y-x\n",
      " |  \n",
      " |  __rtruediv__(...)\n",
      " |      x.__rtruediv__(y) <==> y/x\n",
      " |  \n",
      " |  __rxor__(...)\n",
      " |      x.__rxor__(y) <==> y^x\n",
      " |  \n",
      " |  __str__(...)\n",
      " |      x.__str__() <==> str(x)\n",
      " |  \n",
      " |  __sub__(...)\n",
      " |      x.__sub__(y) <==> x-y\n",
      " |  \n",
      " |  __truediv__(...)\n",
      " |      x.__truediv__(y) <==> x/y\n",
      " |  \n",
      " |  __trunc__(...)\n",
      " |      Truncating an Integral returns itself.\n",
      " |  \n",
      " |  __xor__(...)\n",
      " |      x.__xor__(y) <==> x^y\n",
      " |  \n",
      " |  bit_length(...)\n",
      " |      int.bit_length() -> int\n",
      " |      \n",
      " |      Number of bits necessary to represent self in binary.\n",
      " |      >>> bin(37)\n",
      " |      '0b100101'\n",
      " |      >>> (37).bit_length()\n",
      " |      6\n",
      " |  \n",
      " |  conjugate(...)\n",
      " |      Returns self, the complex conjugate of any int.\n",
      " |  \n",
      " |  ----------------------------------------------------------------------\n",
      " |  Data descriptors defined here:\n",
      " |  \n",
      " |  denominator\n",
      " |      the denominator of a rational number in lowest terms\n",
      " |  \n",
      " |  imag\n",
      " |      the imaginary part of a complex number\n",
      " |  \n",
      " |  numerator\n",
      " |      the numerator of a rational number in lowest terms\n",
      " |  \n",
      " |  real\n",
      " |      the real part of a complex number\n",
      " |  \n",
      " |  ----------------------------------------------------------------------\n",
      " |  Data and other attributes defined here:\n",
      " |  \n",
      " |  __new__ = <built-in method __new__ of type object>\n",
      " |      T.__new__(S, ...) -> a new object with type S, a subtype of T\n",
      "\n"
     ]
    }
   ],
   "source": [
    "help(1)\n"
   ]
  },
  {
   "cell_type": "code",
   "execution_count": null,
   "metadata": {
    "collapsed": true
   },
   "outputs": [],
   "source": []
  }
 ],
 "metadata": {
  "anaconda-cloud": {},
  "kernelspec": {
   "display_name": "Python [Root]",
   "language": "python",
   "name": "Python [Root]"
  },
  "language_info": {
   "codemirror_mode": {
    "name": "ipython",
    "version": 2
   },
   "file_extension": ".py",
   "mimetype": "text/x-python",
   "name": "python",
   "nbconvert_exporter": "python",
   "pygments_lexer": "ipython2",
   "version": "2.7.12"
  }
 },
 "nbformat": 4,
 "nbformat_minor": 0
}
